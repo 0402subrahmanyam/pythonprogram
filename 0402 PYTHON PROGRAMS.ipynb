{
 "cells": [
  {
   "cell_type": "markdown",
   "id": "5b5b6b80",
   "metadata": {},
   "source": [
    "## addition of three numbers"
   ]
  },
  {
   "cell_type": "code",
   "execution_count": 1,
   "id": "db1a65dc",
   "metadata": {},
   "outputs": [
    {
     "name": "stdout",
     "output_type": "stream",
     "text": [
      "20.0\n",
      "<class 'float'>\n"
     ]
    }
   ],
   "source": [
    "a=10\n",
    "b=20\n",
    "c=30\n",
    "avg=(a+b+c)/3\n",
    "print(avg)\n",
    "print(type(avg))"
   ]
  },
  {
   "cell_type": "markdown",
   "id": "96b4de1a",
   "metadata": {},
   "source": [
    "## multiplication of three numbers"
   ]
  },
  {
   "cell_type": "code",
   "execution_count": 3,
   "id": "79c9de6d",
   "metadata": {},
   "outputs": [
    {
     "name": "stdout",
     "output_type": "stream",
     "text": [
      "6000\n",
      "<class 'int'>\n"
     ]
    }
   ],
   "source": [
    "a=10\n",
    "b=20\n",
    "c=30\n",
    "multi=a*b*c\n",
    "print(multi)\n",
    "print(type(multi))"
   ]
  },
  {
   "cell_type": "markdown",
   "id": "2df23b3f",
   "metadata": {},
   "source": [
    "## addition of two numbers (dynamic)"
   ]
  },
  {
   "cell_type": "code",
   "execution_count": 4,
   "id": "217005a3",
   "metadata": {},
   "outputs": [
    {
     "name": "stdout",
     "output_type": "stream",
     "text": [
      "enter the number10\n",
      "enter the number20\n",
      "30\n",
      "<class 'int'>\n"
     ]
    }
   ],
   "source": [
    "a=int(input(\"enter the number\"))\n",
    "b=int(input(\"enter the number\"))\n",
    "add=a+b\n",
    "print(add)\n",
    "print(type(add))"
   ]
  },
  {
   "cell_type": "markdown",
   "id": "17830d23",
   "metadata": {},
   "source": [
    "## convert int to float"
   ]
  },
  {
   "cell_type": "code",
   "execution_count": 5,
   "id": "42890c0e",
   "metadata": {},
   "outputs": [
    {
     "name": "stdout",
     "output_type": "stream",
     "text": [
      "<class 'int'>\n",
      "<class 'float'>\n",
      "10\n",
      "10.0\n"
     ]
    }
   ],
   "source": [
    "a=10\n",
    "print(type(a))\n",
    "b=float(a)\n",
    "print(type(b))\n",
    "print(a)\n",
    "print(b)"
   ]
  },
  {
   "cell_type": "markdown",
   "id": "4c7bb2a1",
   "metadata": {},
   "source": [
    "## convert float to int"
   ]
  },
  {
   "cell_type": "code",
   "execution_count": 6,
   "id": "3f2c7773",
   "metadata": {},
   "outputs": [
    {
     "name": "stdout",
     "output_type": "stream",
     "text": [
      "<class 'float'>\n",
      "<class 'int'>\n",
      "21.2\n",
      "21\n"
     ]
    }
   ],
   "source": [
    "a=21.2\n",
    "print(type(a))\n",
    "b=int(a)\n",
    "print(type(b))\n",
    "print(a)\n",
    "print(b)"
   ]
  },
  {
   "cell_type": "markdown",
   "id": "98f18b96",
   "metadata": {},
   "source": [
    "## convert int to str"
   ]
  },
  {
   "cell_type": "code",
   "execution_count": 7,
   "id": "f08b4837",
   "metadata": {},
   "outputs": [
    {
     "name": "stdout",
     "output_type": "stream",
     "text": [
      "<class 'float'>\n",
      "<class 'str'>\n",
      "21.2\n",
      "21.2\n"
     ]
    }
   ],
   "source": [
    "a=21.2\n",
    "print(type(a))\n",
    "b=str(a)\n",
    "print(type(b))\n",
    "print(a)\n",
    "print(b)"
   ]
  },
  {
   "cell_type": "markdown",
   "id": "4bb78a92",
   "metadata": {},
   "source": [
    "## convert str to int (not possible only if values are given in alpha)"
   ]
  },
  {
   "cell_type": "markdown",
   "id": "9dc5b54c",
   "metadata": {},
   "source": [
    "## boolean"
   ]
  },
  {
   "cell_type": "code",
   "execution_count": 9,
   "id": "5fdfcaa5",
   "metadata": {},
   "outputs": [
    {
     "name": "stdout",
     "output_type": "stream",
     "text": [
      "True\n",
      "<class 'bool'>\n"
     ]
    }
   ],
   "source": [
    "z=10\n",
    "b=bool(a)\n",
    "print(b)\n",
    "print(type(b))\n"
   ]
  },
  {
   "cell_type": "markdown",
   "id": "a73b67a4",
   "metadata": {},
   "source": [
    "## boolean to int"
   ]
  },
  {
   "cell_type": "code",
   "execution_count": 10,
   "id": "5918b14f",
   "metadata": {},
   "outputs": [
    {
     "name": "stdout",
     "output_type": "stream",
     "text": [
      "False\n",
      "<class 'bool'>\n",
      "<class 'int'>\n",
      "0\n"
     ]
    }
   ],
   "source": [
    "z=10\n",
    "b=15\n",
    "c=b<z\n",
    "print(bool(c))\n",
    "print(type(c))\n",
    "d=int(c)\n",
    "print(type(d))\n",
    "print(d)"
   ]
  },
  {
   "cell_type": "markdown",
   "id": "7084f9b8",
   "metadata": {},
   "source": [
    "## boolean to float"
   ]
  },
  {
   "cell_type": "code",
   "execution_count": 11,
   "id": "34dcc437",
   "metadata": {},
   "outputs": [
    {
     "name": "stdout",
     "output_type": "stream",
     "text": [
      "False\n",
      "<class 'bool'>\n",
      "<class 'float'>\n",
      "0.0\n"
     ]
    }
   ],
   "source": [
    "z=10\n",
    "b=15\n",
    "c=b<z\n",
    "print(bool(c))\n",
    "print(type(c))\n",
    "d=float(c)\n",
    "print(type(d))\n",
    "print(d)"
   ]
  },
  {
   "cell_type": "markdown",
   "id": "0351ac5d",
   "metadata": {},
   "source": [
    "## boolean to str"
   ]
  },
  {
   "cell_type": "code",
   "execution_count": 12,
   "id": "6efd55f5",
   "metadata": {},
   "outputs": [
    {
     "name": "stdout",
     "output_type": "stream",
     "text": [
      "False\n",
      "<class 'bool'>\n",
      "<class 'str'>\n",
      "False\n"
     ]
    }
   ],
   "source": [
    "z=10\n",
    "b=15\n",
    "c=b<z\n",
    "print(bool(c))\n",
    "print(type(c))\n",
    "d=str(c)\n",
    "print(type(d))\n",
    "print(d)"
   ]
  },
  {
   "cell_type": "markdown",
   "id": "5f811b17",
   "metadata": {},
   "source": [
    "## boolean to complex"
   ]
  },
  {
   "cell_type": "code",
   "execution_count": 13,
   "id": "04075e93",
   "metadata": {},
   "outputs": [
    {
     "name": "stdout",
     "output_type": "stream",
     "text": [
      "False\n",
      "<class 'bool'>\n",
      "<class 'complex'>\n",
      "0j\n"
     ]
    }
   ],
   "source": [
    "z=10\n",
    "b=15\n",
    "c=b<z\n",
    "print(bool(c))\n",
    "print(type(c))\n",
    "d=complex(c)\n",
    "print(type(d))\n",
    "print(d)"
   ]
  },
  {
   "cell_type": "markdown",
   "id": "e5a0ded7",
   "metadata": {},
   "source": [
    "## complex to int is not possible to convert"
   ]
  },
  {
   "cell_type": "code",
   "execution_count": null,
   "id": "62ff57dd",
   "metadata": {},
   "outputs": [],
   "source": []
  }
 ],
 "metadata": {
  "kernelspec": {
   "display_name": "Python 3 (ipykernel)",
   "language": "python",
   "name": "python3"
  },
  "language_info": {
   "codemirror_mode": {
    "name": "ipython",
    "version": 3
   },
   "file_extension": ".py",
   "mimetype": "text/x-python",
   "name": "python",
   "nbconvert_exporter": "python",
   "pygments_lexer": "ipython3",
   "version": "3.9.7"
  }
 },
 "nbformat": 4,
 "nbformat_minor": 5
}
